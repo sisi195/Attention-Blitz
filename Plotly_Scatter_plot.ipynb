{
  "nbformat": 4,
  "nbformat_minor": 0,
  "metadata": {
    "colab": {
      "private_outputs": true,
      "provenance": [],
      "authorship_tag": "ABX9TyPCjS5Z+ImIMm2bmvZm5+YM",
      "include_colab_link": true
    },
    "kernelspec": {
      "name": "python3",
      "display_name": "Python 3"
    },
    "language_info": {
      "name": "python"
    }
  },
  "cells": [
    {
      "cell_type": "markdown",
      "metadata": {
        "id": "view-in-github",
        "colab_type": "text"
      },
      "source": [
        "<a href=\"https://colab.research.google.com/github/sisi195/Attention-Blitz/blob/main/Plotly_Scatter_plot.ipynb\" target=\"_parent\"><img src=\"https://colab.research.google.com/assets/colab-badge.svg\" alt=\"Open In Colab\"/></a>"
      ]
    },
    {
      "cell_type": "markdown",
      "source": [
        "Sierra Gordon"
      ],
      "metadata": {
        "id": "EwM8ynFiyctO"
      }
    },
    {
      "cell_type": "markdown",
      "source": [
        "Description a scatter plot of ages is a critical variable that provides valuable insights into the study and draw meaningful conclusions."
      ],
      "metadata": {
        "id": "jBtM7n6oyZBe"
      }
    },
    {
      "source": [
        "import plotly.express as px\n",
        "import pandas as pd\n",
        "\n",
        "# Load your dataset, specifying the delimiter as semicolon\n",
        "data = pd.read_csv('/content/patient_info.csv', delimiter=';')\n",
        "\n",
        "# Create scatter plot\n",
        "fig = px.scatter(data, x='ID',\n",
        "                 y='AGE',\n",
        "                 title='Scatter Plot of Ages')\n",
        "fig.show()"
      ],
      "cell_type": "code",
      "metadata": {
        "id": "ssMMRz1K7rRx"
      },
      "execution_count": null,
      "outputs": []
    }
  ]
}