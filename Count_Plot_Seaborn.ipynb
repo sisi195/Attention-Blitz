{
  "nbformat": 4,
  "nbformat_minor": 0,
  "metadata": {
    "colab": {
      "private_outputs": true,
      "provenance": [],
      "authorship_tag": "ABX9TyMJ0h5pFGk0FbDmhYhOfQem",
      "include_colab_link": true
    },
    "kernelspec": {
      "name": "python3",
      "display_name": "Python 3"
    },
    "language_info": {
      "name": "python"
    }
  },
  "cells": [
    {
      "cell_type": "markdown",
      "metadata": {
        "id": "view-in-github",
        "colab_type": "text"
      },
      "source": [
        "<a href=\"https://colab.research.google.com/github/sisi195/Attention-Blitz/blob/main/Count_Plot_Seaborn.ipynb\" target=\"_parent\"><img src=\"https://colab.research.google.com/assets/colab-badge.svg\" alt=\"Open In Colab\"/></a>"
      ]
    },
    {
      "cell_type": "markdown",
      "source": [
        "Sierra Gordon\n",
        "\n",
        "Description: A count plot is useful for visualizing the frequency of different categories, such as sex. To show the distribution of participants by sex, we can use a count plot to identify any imbalances in the dataset.\n",
        "\n"
      ],
      "metadata": {
        "id": "32VnRvKeD4sl"
      }
    },
    {
      "source": [
        "import seaborn as sns\n",
        "import pandas as pd\n",
        "import matplotlib.pyplot as plt\n",
        "\n",
        "data = pd.read_csv('/content/patient_info.csv', delimiter=';')\n",
        "\n",
        "# Create a count plot\n",
        "plt.figure(figsize=(10, 6))\n",
        "sns.countplot(data=data, x='SEX', hue='SEX', palette={0: 'pink', 1: 'lightblue'}, legend=False)\n",
        "plt.title('Count of Participants by Sex')\n",
        "plt.xlabel('SEX')\n",
        "plt.ylabel('Count')\n",
        "plt.xticks(ticks=[0, 1], labels=['Female', 'Male'])\n",
        "plt.show()"
      ],
      "cell_type": "code",
      "metadata": {
        "id": "qEFdwp5gDj76"
      },
      "execution_count": null,
      "outputs": []
    }
  ]
}