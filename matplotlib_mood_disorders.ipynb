{
  "nbformat": 4,
  "nbformat_minor": 0,
  "metadata": {
    "colab": {
      "private_outputs": true,
      "provenance": [],
      "authorship_tag": "ABX9TyNtozwP33k45IigWGqd1Bpi",
      "include_colab_link": true
    },
    "kernelspec": {
      "name": "python3",
      "display_name": "Python 3"
    },
    "language_info": {
      "name": "python"
    }
  },
  "cells": [
    {
      "cell_type": "markdown",
      "metadata": {
        "id": "view-in-github",
        "colab_type": "text"
      },
      "source": [
        "<a href=\"https://colab.research.google.com/github/sisi195/Attention-Blitz/blob/main/matplotlib_mood_disorders.ipynb\" target=\"_parent\"><img src=\"https://colab.research.google.com/assets/colab-badge.svg\" alt=\"Open In Colab\"/></a>"
      ]
    },
    {
      "cell_type": "code",
      "source": [
        "import matplotlib.pyplot as plt\n",
        "import pandas as pd\n",
        "\n",
        "data = pd.read_csv('/content/patient_info.csv', delimiter=';')\n",
        "\n",
        "# Concatenated column names\n",
        "data.columns = ['id', 'sex', 'age', 'acc', 'acc_time', 'acc_days', 'hrv', 'hrv_time', 'hrv_hours', 'cpt_ii', 'adhd', 'add', 'bipolar', 'unipolar', 'anxiety', 'substance', 'other', 'ct', 'mdq_pos', 'wurs', 'asrs', 'madrs', 'hads_a', 'hads_d', 'med', 'med_antidepr', 'med_moodstab', 'med_antipsych', 'med_anxiety_benzo', 'med_sleep', 'med_analgesics_opioids', 'med_stimulants', 'filter_$']\n",
        "\n",
        "# Columns related to age and mood disorder\n",
        "mood_disorder = ['bipolar', 'unipolar', 'anxiety', 'substance', 'other']\n",
        "columns = data[['age'] + mood_disorder]\n",
        "\n",
        "# Filter data for people with mood orders\n",
        "data = columns[(columns[mood_disorder] == 1).any(axis=1)]\n",
        "\n",
        "# Create a histogram\n",
        "plt.figure(figsize=(12, 8))\n",
        "colors = ['blue', 'green', 'red', 'purple', 'orange']\n",
        "for mood_disorder, color in zip(mood_disorder_columns, colors):\n",
        "    plt.hist(data[data[mood_disorder] == 1]['age'], bins=10, alpha=0.7, label=f'{mood_disorder}', edgecolor='black', color=color)\n",
        "\n",
        "plt.title('Distribution of Age by Mood Disorders')\n",
        "plt.xlabel('Age')\n",
        "plt.ylabel('Frequency')\n",
        "plt.legend(title='Mood Disorders')\n",
        "plt.grid(True)\n",
        "plt.xticks(fontsize=12)\n",
        "plt.yticks(fontsize=12)\n",
        "plt.show()"
      ],
      "metadata": {
        "id": "njkw0pZ1RJCS"
      },
      "execution_count": null,
      "outputs": []
    }
  ]
}